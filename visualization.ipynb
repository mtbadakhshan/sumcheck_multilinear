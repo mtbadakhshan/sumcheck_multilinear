{
 "cells": [
  {
   "cell_type": "markdown",
   "metadata": {
    "pycharm": {
     "name": "#%% md\n"
    }
   },
   "source": [
    " # Benchmark Visualization"
   ]
  },
  {
   "cell_type": "markdown",
   "metadata": {
    "pycharm": {
     "name": "#%% md\n"
    }
   },
   "source": [
    "### Interactive Protocol"
   ]
  },
  {
   "cell_type": "code",
   "execution_count": 1,
   "metadata": {
    "pycharm": {
     "name": "#%%\n"
    }
   },
   "outputs": [],
   "source": [
    "import random\n",
    "import time\n",
    "import matplotlib.pyplot as plt\n",
    "import numpy as np\n",
    "from IPProverLinear import InteractiveLinearProver\n",
    "from IPProverNaive import InteractiveNaiveProver\n",
    "from IPVerifier import InteractiveVerifier\n",
    "from polynomial import makeMVLinearConstructor\n",
    "\n",
    "from typing import Dict, Tuple, List"
   ]
  },
  {
   "cell_type": "code",
   "execution_count": 2,
   "metadata": {
    "pycharm": {
     "name": "#%%\n"
    }
   },
   "outputs": [],
   "source": [
    "def randomPolynomial(num_variables: int, field_size: int):\n",
    "    num_terms = 2**num_variables\n",
    "    m = makeMVLinearConstructor(num_variables, field_size)\n",
    "    d: Dict[int, int] = dict()\n",
    "    for _ in range(num_terms):\n",
    "        d[random.randint(0, 2**num_variables - 1)] = random.randint(0, 100)\n",
    "\n",
    "    return m(d)"
   ]
  },
  {
   "cell_type": "code",
   "execution_count": 6,
   "metadata": {
    "pycharm": {
     "name": "#%%\n"
    }
   },
   "outputs": [],
   "source": [
    "def naiveTrial(num_variables: int, field_size: int) -> Tuple[float, float]:\n",
    "    \"\"\"\n",
    "    :param num_variables:\n",
    "    :param field_size:\n",
    "    :return: prover time, verifier time (in millisecond)\n",
    "    \"\"\"\n",
    "    p = randomPolynomial(num_variables, field_size)\n",
    "    pv = InteractiveNaiveProver(p)\n",
    "\n",
    "    t0 = time.time() * 1000\n",
    "    s = pv.calculateSum([])\n",
    "    t1 = time.time() * 1000\n",
    "    t = t1 - t0\n",
    "\n",
    "    v = InteractiveVerifier(random.randint(0, 0xFFFFFFFF), p, s)\n",
    "    t0 = time.time() * 1000\n",
    "    result, vT = pv.attemptProve(v)\n",
    "    t1 = time.time() * 1000\n",
    "    t += t1 - t0 - vT\n",
    "\n",
    "\n",
    "    assert result\n",
    "    return t, vT\n"
   ]
  },
  {
   "cell_type": "code",
   "execution_count": 12,
   "metadata": {
    "pycharm": {
     "name": "#%%\n"
    }
   },
   "outputs": [],
   "source": [
    "def linearTrial(num_variables: int, field_size: int) -> Tuple[float, float]:\n",
    "    \"\"\"\n",
    "    :param num_variables:\n",
    "    :param field_size:\n",
    "    :return: prover time, verifier time (in millisecond)\n",
    "    \"\"\"\n",
    "    p = randomPolynomial(num_variables, field_size)\n",
    "    pv = InteractiveLinearProver(p)\n",
    "\n",
    "    t0 = time.time() * 1000\n",
    "    A, s = pv.calculateTable()\n",
    "    t1 = time.time() * 1000\n",
    "    t = t1 - t0\n",
    "\n",
    "    v = InteractiveVerifier(random.randint(0, 0xFFFFFFFF), p, s)\n",
    "    t0 = time.time() * 1000\n",
    "    vT = pv.attemptProve(A, v)\n",
    "    t1 = time.time() * 1000\n",
    "    t += t1 - t0 - vT\n",
    "\n",
    "\n",
    "    assert v.convinced\n",
    "    return t, vT"
   ]
  },
  {
   "cell_type": "code",
   "execution_count": 24,
   "metadata": {
    "pycharm": {
     "name": "#%%\n"
    }
   },
   "outputs": [],
   "source": [
    "def experiment() -> Tuple[List[int], List[int], List[int], List[int]]:\n",
    "    SIZE = 745765749931\n",
    "    num_variables = [7,8,9,10,11,12]\n",
    "    prover_naive_time = []\n",
    "    prover_linear_time = []\n",
    "    verifier_time = []\n",
    "\n",
    "    for n in num_variables:\n",
    "        nT, _ = naiveTrial(n, SIZE)\n",
    "        lT, vT = linearTrial(n, SIZE)\n",
    "        prover_naive_time.append(nT)\n",
    "        prover_linear_time.append(lT)\n",
    "        verifier_time.append(vT)\n",
    "\n",
    "    return num_variables, prover_naive_time, prover_linear_time, verifier_time"
   ]
  },
  {
   "cell_type": "code",
   "execution_count": 25,
   "metadata": {
    "pycharm": {
     "name": "#%%\n"
    }
   },
   "outputs": [],
   "source": [
    "\n",
    "\n",
    "nVs, nTs, lTs, vTs= experiment()"
   ]
  },
  {
   "cell_type": "code",
   "execution_count": 33,
   "metadata": {
    "pycharm": {
     "name": "#%%\n"
    }
   },
   "outputs": [],
   "source": [
    "\n",
    "def draw(nVs: List[int], nTs: List[int], lTs: List[int], vTs: List[int]):\n",
    "    plt.figure(figsize=(4,4))\n",
    "    plt.suptitle(\"Running time(ms) for naive prover, linear prover, and verifier. \")\n",
    "    plt.plot(nVs, vTs, color='orange', label=\"verifier\")\n",
    "    plt.plot(nVs, nTs, color='black', label='naive prover')\n",
    "    plt.plot(nVs, lTs, color='blue', label='linear prover')\n",
    "    plt.show()"
   ]
  },
  {
   "cell_type": "code",
   "execution_count": 34,
   "metadata": {
    "pycharm": {
     "name": "#%%\n"
    }
   },
   "outputs": [
    {
     "data": {
      "image/png": "[encoded data removed]",
      "text/plain": [
       "<Figure size 288x288 with 1 Axes>"
      ]
     },
     "metadata": {
      "needs_background": "light"
     },
     "output_type": "display_data"
    }
   ],
   "source": [
    "draw(nVs, nTs, lTs, vTs)"
   ]
  },
  {
   "cell_type": "markdown",
   "metadata": {
    "pycharm": {
     "name": "#%% md\n"
    }
   },
   "source": [
    "## Non-interactive protocol"
   ]
  },
  {
   "cell_type": "code",
   "execution_count": 3,
   "metadata": {
    "pycharm": {
     "name": "#%%\n"
    }
   },
   "outputs": [],
   "source": [
    "from FSProver import generateTheoremAndProof\n",
    "from FSVerifier import verifyProof\n",
    "from IPython.display import display, Markdown"
   ]
  },
  {
   "cell_type": "code",
   "execution_count": 4,
   "metadata": {
    "pycharm": {
     "name": "#%%\n"
    }
   },
   "outputs": [
    {
     "data": {
      "text/plain": "<IPython.core.display.Markdown object>",
      "text/markdown": "<b>Number of Variables:</b> `7`\n"
     },
     "metadata": {},
     "output_type": "display_data"
    },
    {
     "data": {
      "text/plain": "<IPython.core.display.Markdown object>",
      "text/markdown": "<b>Prover</b> takes time `18` ms\n"
     },
     "metadata": {},
     "output_type": "display_data"
    },
    {
     "data": {
      "text/plain": "<IPython.core.display.Markdown object>",
      "text/markdown": "<b>Verifier</b> takes time `1` ms<br><br>"
     },
     "metadata": {},
     "output_type": "display_data"
    },
    {
     "data": {
      "text/plain": "<IPython.core.display.Markdown object>",
      "text/markdown": "<b>Number of Variables:</b> `8`\n"
     },
     "metadata": {},
     "output_type": "display_data"
    },
    {
     "data": {
      "text/plain": "<IPython.core.display.Markdown object>",
      "text/markdown": "<b>Prover</b> takes time `59` ms\n"
     },
     "metadata": {},
     "output_type": "display_data"
    },
    {
     "data": {
      "text/plain": "<IPython.core.display.Markdown object>",
      "text/markdown": "<b>Verifier</b> takes time `2` ms<br><br>"
     },
     "metadata": {},
     "output_type": "display_data"
    },
    {
     "data": {
      "text/plain": "<IPython.core.display.Markdown object>",
      "text/markdown": "<b>Number of Variables:</b> `9`\n"
     },
     "metadata": {},
     "output_type": "display_data"
    },
    {
     "data": {
      "text/plain": "<IPython.core.display.Markdown object>",
      "text/markdown": "<b>Prover</b> takes time `160` ms\n"
     },
     "metadata": {},
     "output_type": "display_data"
    },
    {
     "data": {
      "text/plain": "<IPython.core.display.Markdown object>",
      "text/markdown": "<b>Verifier</b> takes time `1` ms<br><br>"
     },
     "metadata": {},
     "output_type": "display_data"
    },
    {
     "data": {
      "text/plain": "<IPython.core.display.Markdown object>",
      "text/markdown": "<b>Number of Variables:</b> `10`\n"
     },
     "metadata": {},
     "output_type": "display_data"
    },
    {
     "data": {
      "text/plain": "<IPython.core.display.Markdown object>",
      "text/markdown": "<b>Prover</b> takes time `621` ms\n"
     },
     "metadata": {},
     "output_type": "display_data"
    },
    {
     "data": {
      "text/plain": "<IPython.core.display.Markdown object>",
      "text/markdown": "<b>Verifier</b> takes time `4` ms<br><br>"
     },
     "metadata": {},
     "output_type": "display_data"
    },
    {
     "data": {
      "text/plain": "<IPython.core.display.Markdown object>",
      "text/markdown": "<b>Number of Variables:</b> `11`\n"
     },
     "metadata": {},
     "output_type": "display_data"
    },
    {
     "data": {
      "text/plain": "<IPython.core.display.Markdown object>",
      "text/markdown": "<b>Prover</b> takes time `2481` ms\n"
     },
     "metadata": {},
     "output_type": "display_data"
    },
    {
     "data": {
      "text/plain": "<IPython.core.display.Markdown object>",
      "text/markdown": "<b>Verifier</b> takes time `6` ms<br><br>"
     },
     "metadata": {},
     "output_type": "display_data"
    },
    {
     "data": {
      "text/plain": "<IPython.core.display.Markdown object>",
      "text/markdown": "<b>Number of Variables:</b> `12`\n"
     },
     "metadata": {},
     "output_type": "display_data"
    },
    {
     "data": {
      "text/plain": "<IPython.core.display.Markdown object>",
      "text/markdown": "<b>Prover</b> takes time `9768` ms\n"
     },
     "metadata": {},
     "output_type": "display_data"
    },
    {
     "data": {
      "text/plain": "<IPython.core.display.Markdown object>",
      "text/markdown": "<b>Verifier</b> takes time `13` ms<br><br>"
     },
     "metadata": {},
     "output_type": "display_data"
    },
    {
     "data": {
      "text/plain": "<IPython.core.display.Markdown object>",
      "text/markdown": "<b>Number of Variables:</b> `13`\n"
     },
     "metadata": {},
     "output_type": "display_data"
    },
    {
     "data": {
      "text/plain": "<IPython.core.display.Markdown object>",
      "text/markdown": "<b>Prover</b> takes time `39402` ms\n"
     },
     "metadata": {},
     "output_type": "display_data"
    },
    {
     "data": {
      "text/plain": "<IPython.core.display.Markdown object>",
      "text/markdown": "<b>Verifier</b> takes time `28` ms<br><br>"
     },
     "metadata": {},
     "output_type": "display_data"
    }
   ],
   "source": [
    "def experiment_offline() -> Tuple[List[int], List[int], List[int]]:\n",
    "    SIZE = 745765749931\n",
    "    num_variables = [7,8,9,10,11,12,13]\n",
    "    prover_time = []\n",
    "    verifier_time = []\n",
    "\n",
    "    for n in num_variables:\n",
    "        display(Markdown(f\"<b>Number of Variables:</b> `{n}`\\n\"))\n",
    "        p = randomPolynomial(n, SIZE)\n",
    "        t0 = time.time()\n",
    "        thm, pf = generateTheoremAndProof(p)\n",
    "        t1 = time.time()\n",
    "        display(Markdown(f\"<b>Prover</b> takes time `{round((t1-t0)*1000)}` ms\\n\"))\n",
    "        prover_time.append((t1 - t0) * 1000)\n",
    "\n",
    "        t0 = time.time()\n",
    "        assert verifyProof(thm, pf)\n",
    "        t1 = time.time()\n",
    "        display(Markdown(f\"<b>Verifier</b> takes time `{round((t1-t0)*1000)}` ms<br><br>\"))\n",
    "        verifier_time.append((t1 - t0) * 1000)\n",
    "\n",
    "    return num_variables, prover_time, verifier_time\n",
    "\n",
    "result = experiment_offline()"
   ]
  },
  {
   "cell_type": "code",
   "execution_count": 5,
   "metadata": {
    "pycharm": {
     "name": "#%%\n"
    }
   },
   "outputs": [],
   "source": [
    "def draw_offline(nVs: List[int], lTs: List[int], vTs: List[int]):\n",
    "    plt.figure(figsize=(4,4))\n",
    "    plt.suptitle(\"Running time(ms) for offline prover and verifier. \")\n",
    "    plt.plot(nVs, vTs, color='orange', label=\"verifier\")\n",
    "    plt.plot(nVs, lTs, color='blue', label='linear prover')\n",
    "    plt.show()"
   ]
  },
  {
   "cell_type": "code",
   "execution_count": 6,
   "metadata": {
    "pycharm": {
     "name": "#%%\n"
    }
   },
   "outputs": [
    {
     "data": {
      "text/plain": "<Figure size 288x288 with 1 Axes>",
      "image/png": "[encoded data removed]"
     },
     "metadata": {
      "needs_background": "light"
     },
     "output_type": "display_data"
    }
   ],
   "source": [
    "draw_offline(*result)\n",
    "\n"
   ]
  }
 ],
 "metadata": {
  "kernelspec": {
   "display_name": "Python 3",
   "language": "python",
   "name": "python3"
  },
  "language_info": {
   "codemirror_mode": {
    "name": "ipython",
    "version": 3
   },
   "file_extension": ".py",
   "mimetype": "text/x-python",
   "name": "python",
   "nbconvert_exporter": "python",
   "pygments_lexer": "ipython3",
   "version": "3.7.4"
  }
 },
 "nbformat": 4,
 "nbformat_minor": 1
}