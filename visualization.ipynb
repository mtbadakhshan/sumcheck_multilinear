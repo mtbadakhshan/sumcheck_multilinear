{
 "cells": [
  {
   "cell_type": "markdown",
   "source": [
    " # Benchmark Visualization\n",
    "\n",
    "### Interactive Protocol"
   ],
   "metadata": {
    "collapsed": false,
    "pycharm": {
     "name": "#%% md\n"
    }
   }
  },
  {
   "cell_type": "code",
   "source": [
    "import random\n",
    "import time\n",
    "import matplotlib.pyplot as plt\n",
    "import numpy as np\n",
    "from IPProverLinear import InteractiveLinearProver\n",
    "from IPProverNaive import InteractiveNaiveProver\n",
    "from IPVerifier import InteractiveVerifier\n",
    "from polynomial import makeMVLinearConstructor\n",
    "\n",
    "from typing import Dict, Tuple, List"
   ],
   "metadata": {
    "collapsed": false,
    "pycharm": {
     "name": "#%%\n"
    }
   },
   "execution_count": 17,
   "outputs": []
  },
  {
   "cell_type": "code",
   "execution_count": 2,
   "outputs": [],
   "source": [
    "def randomPolynomial(num_variables: int, field_size: int):\n",
    "    num_terms = 2**num_variables\n",
    "    m = makeMVLinearConstructor(num_variables, field_size)\n",
    "    d: Dict[int, int] = dict()\n",
    "    for _ in range(num_terms):\n",
    "        d[random.randint(0, 2**num_variables - 1)] = random.randint(0, 100)\n",
    "\n",
    "    return m(d)"
   ],
   "metadata": {
    "collapsed": false,
    "pycharm": {
     "name": "#%%\n"
    }
   }
  },
  {
   "cell_type": "code",
   "execution_count": 6,
   "outputs": [],
   "source": [
    "def naiveTrial(num_variables: int, field_size: int) -> Tuple[float, float]:\n",
    "    \"\"\"\n",
    "    :param num_variables:\n",
    "    :param field_size:\n",
    "    :return: prover time, verifier time (in millisecond)\n",
    "    \"\"\"\n",
    "    p = randomPolynomial(num_variables, field_size)\n",
    "    pv = InteractiveNaiveProver(p)\n",
    "\n",
    "    t0 = time.time() * 1000\n",
    "    s = pv.calculateSum([])\n",
    "    t1 = time.time() * 1000\n",
    "    t = t1 - t0\n",
    "\n",
    "    v = InteractiveVerifier(random.randint(0, 0xFFFFFFFF), p, s)\n",
    "    t0 = time.time() * 1000\n",
    "    result, vT = pv.attemptProve(v)\n",
    "    t1 = time.time() * 1000\n",
    "    t += t1 - t0 - vT\n",
    "\n",
    "\n",
    "    assert result\n",
    "    return t, vT\n"
   ],
   "metadata": {
    "collapsed": false,
    "pycharm": {
     "name": "#%%\n"
    }
   }
  },
  {
   "cell_type": "code",
   "execution_count": 12,
   "outputs": [],
   "source": [
    "def linearTrial(num_variables: int, field_size: int) -> Tuple[float, float]:\n",
    "    \"\"\"\n",
    "    :param num_variables:\n",
    "    :param field_size:\n",
    "    :return: prover time, verifier time (in millisecond)\n",
    "    \"\"\"\n",
    "    p = randomPolynomial(num_variables, field_size)\n",
    "    pv = InteractiveLinearProver(p)\n",
    "\n",
    "    t0 = time.time() * 1000\n",
    "    A, s = pv.calculateTable()\n",
    "    t1 = time.time() * 1000\n",
    "    t = t1 - t0\n",
    "\n",
    "    v = InteractiveVerifier(random.randint(0, 0xFFFFFFFF), p, s)\n",
    "    t0 = time.time() * 1000\n",
    "    vT = pv.attemptProve(A, v)\n",
    "    t1 = time.time() * 1000\n",
    "    t += t1 - t0 - vT\n",
    "\n",
    "\n",
    "    assert v.convinced\n",
    "    return t, vT"
   ],
   "metadata": {
    "collapsed": false,
    "pycharm": {
     "name": "#%%\n"
    }
   }
  },
  {
   "cell_type": "code",
   "execution_count": 24,
   "outputs": [],
   "source": [
    "def experiment() -> Tuple[List[int], List[int], List[int], List[int]]:\n",
    "    SIZE = 745765749931\n",
    "    num_variables = [7,8,9,10,11,12]\n",
    "    prover_naive_time = []\n",
    "    prover_linear_time = []\n",
    "    verifier_time = []\n",
    "\n",
    "    for n in num_variables:\n",
    "        nT, _ = naiveTrial(n, SIZE)\n",
    "        lT, vT = linearTrial(n, SIZE)\n",
    "        prover_naive_time.append(nT)\n",
    "        prover_linear_time.append(lT)\n",
    "        verifier_time.append(vT)\n",
    "\n",
    "    return num_variables, prover_naive_time, prover_linear_time, verifier_time"
   ],
   "metadata": {
    "collapsed": false,
    "pycharm": {
     "name": "#%%\n"
    }
   }
  },
  {
   "cell_type": "code",
   "execution_count": 25,
   "outputs": [],
   "source": [
    "\n",
    "\n",
    "nVs, nTs, lTs, vTs= experiment()"
   ],
   "metadata": {
    "collapsed": false,
    "pycharm": {
     "name": "#%%\n"
    }
   }
  },
  {
   "cell_type": "code",
   "execution_count": 26,
   "outputs": [],
   "source": [
    "\n",
    "def draw(nVs: List[int], nTs: List[int], lTs: List[int], vTs: List[int]):\n",
    "    plt.figure(figsize=(4,4))\n",
    "    plt.suptitle(\"Running time for naive prover, linear prover, and verifier. \")\n",
    "    plt.plot(nVs, vTs, color='orange', label=\"verifier\")\n",
    "    plt.plot(nVs, nTs, color='black', label='naive prover')\n",
    "    plt.plot(nVs, lTs, color='blue', label='linear prover')\n",
    "    plt.show()"
   ],
   "metadata": {
    "collapsed": false,
    "pycharm": {
     "name": "#%%\n"
    }
   }
  },
  {
   "cell_type": "code",
   "execution_count": 27,
   "outputs": [
    {
     "data": {
      "text/plain": "<Figure size 288x288 with 1 Axes>",
      "image/png": "[encoded data removed]"
     },
     "metadata": {
      "needs_background": "light"
     },
     "output_type": "display_data"
    }
   ],
   "source": [
    "draw(nVs, nTs, lTs, vTs)\n",
    "\n"
   ],
   "metadata": {
    "collapsed": false,
    "pycharm": {
     "name": "#%%\n"
    }
   }
  },
  {
   "cell_type": "code",
   "execution_count": null,
   "outputs": [],
   "source": [
    "\n"
   ],
   "metadata": {
    "collapsed": false,
    "pycharm": {
     "name": "#%%\n"
    }
   }
  }
 ],
 "metadata": {
  "kernelspec": {
   "display_name": "Python 3",
   "language": "python",
   "name": "python3"
  },
  "language_info": {
   "codemirror_mode": {
    "name": "ipython",
    "version": 2
   },
   "file_extension": ".py",
   "mimetype": "text/x-python",
   "name": "python",
   "nbconvert_exporter": "python",
   "pygments_lexer": "ipython2",
   "version": "2.7.6"
  }
 },
 "nbformat": 4,
 "nbformat_minor": 0
}